{
 "cells": [
  {
   "cell_type": "code",
   "execution_count": 1,
   "id": "6c488a70-64da-4bde-9bb6-0e04f8e831df",
   "metadata": {},
   "outputs": [],
   "source": [
    "import pandas as pd\n",
    "import os"
   ]
  },
  {
   "cell_type": "code",
   "execution_count": 9,
   "id": "bb9f3c81-5794-47ae-b305-7ec42e9f2bb3",
   "metadata": {},
   "outputs": [
    {
     "data": {
      "text/plain": [
       "'C:\\\\Users\\\\kam224\\\\OneDrive - Imperial College London\\\\Documents\\\\NumericsProject2\\\\New folder'"
      ]
     },
     "execution_count": 9,
     "metadata": {},
     "output_type": "execute_result"
    }
   ],
   "source": [
    "os.getcwd()"
   ]
  },
  {
   "cell_type": "code",
   "execution_count": 80,
   "id": "d02bf535-9079-4c3c-97de-3753f721587b",
   "metadata": {},
   "outputs": [],
   "source": [
    "df1 = pd.read_csv(\"../results/results_diff_10e-5.csv\", index_col = \"time\", names = [\"time\", \"diff 10e-5\"], header = 0)\n",
    "df2 = pd.read_csv(\"../results/results_diff_10e-6.csv\", index_col = \"time\", names = [\"time\", \"diff 10e-6\"],  header = 0)\n",
    "df3 = pd.read_csv(\"../results/results_diff_10e-7.csv\", index_col = \"time\", names = [\"time\", \"diff 10e-7\"],  header = 0)"
   ]
  },
  {
   "cell_type": "code",
   "execution_count": 92,
   "id": "7d613aff-633d-414b-8ce3-9c1da77999d2",
   "metadata": {},
   "outputs": [],
   "source": [
    "df = df1.join([df2, df3])"
   ]
  },
  {
   "cell_type": "code",
   "execution_count": 100,
   "id": "b2230e1a-f5c5-45c1-b5b2-1abc7c4f93af",
   "metadata": {},
   "outputs": [],
   "source": [
    "df.index = (df.index - 0.1)/3600"
   ]
  },
  {
   "cell_type": "code",
   "execution_count": 108,
   "id": "dac8b560-7bba-41c4-a633-b6730403c702",
   "metadata": {},
   "outputs": [],
   "source": [
    "df.to_csv(\"full_data.csv\", sep = \"&\", lineterminator = \"\\\\\\\\ \\n \\\\hbar \\n\")"
   ]
  }
 ],
 "metadata": {
  "kernelspec": {
   "display_name": "Python 3 (ipykernel)",
   "language": "python",
   "name": "python3"
  },
  "language_info": {
   "codemirror_mode": {
    "name": "ipython",
    "version": 3
   },
   "file_extension": ".py",
   "mimetype": "text/x-python",
   "name": "python",
   "nbconvert_exporter": "python",
   "pygments_lexer": "ipython3",
   "version": "3.12.7"
  }
 },
 "nbformat": 4,
 "nbformat_minor": 5
}
