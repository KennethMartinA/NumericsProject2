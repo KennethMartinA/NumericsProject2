{
 "cells": [
  {
   "cell_type": "code",
   "execution_count": 47,
   "metadata": {},
   "outputs": [
    {
     "name": "stdout",
     "output_type": "stream",
     "text": [
      "Loaded Successfully\n"
     ]
    },
    {
     "name": "stderr",
     "output_type": "stream",
     "text": [
      "c:\\Users\\kam224\\OneDrive - Imperial College London\\Documents\\NumericsProject2\\venv\\Lib\\site-packages\\scipy\\sparse\\_index.py:151: SparseEfficiencyWarning: Changing the sparsity structure of a csc_array is expensive. lil and dok are more efficient.\n",
      "  self._set_arrayXarray(i, j, x)\n"
     ]
    }
   ],
   "source": [
    "# -*- coding: utf-8 -*-\n",
    "\"\"\"\n",
    "Created on Fri Nov 29 00:23:32 2024\n",
    "\n",
    "@author: kam224\n",
    "\"\"\"\n",
    "import numpy as np\n",
    "import matplotlib.pyplot as plt\n",
    "from constants import *\n",
    "from utils import *\n",
    "from finiteElement.SpatialInterpolator import SpatialInterpolator\n",
    "from finiteElement.Space import sparseAdvectionDiffSpace\n",
    "import pickle\n",
    "import argparse\n",
    "\n",
    "\n",
    "plot = False\n",
    "filepath = DEFAULT_FILEPATH\n",
    "\n",
    "scale = \"12_5k.txt\"\n",
    "\n",
    "\n",
    "nodes = np.loadtxt(\"../\" + filepath + 'nodes_' + scale)\n",
    "IEN = np.loadtxt(\"../\" + filepath + 'IEN_' + scale, dtype=np.int64)\n",
    "#correction for IEN ordering\n",
    "IEN = IEN[:,-1::-1]\n",
    "boundaries = np.loadtxt(\"../\" + filepath + 'bdry_' + scale, \n",
    "                            dtype=np.int64)\n",
    "\n",
    "with open(\"model.pkl\", \"rb\") as f:\n",
    "    interp = pickle.load(f)\n",
    "print(\"Loaded Successfully\")\n",
    "df = interp.interpolate(nodes.T,[0])[[\"horizontal_wind_speed\", \"vertical_wind_speed\"]]\n",
    "initialVelocityMatrix = df[[\"horizontal_wind_speed\", \"vertical_wind_speed\"]].to_numpy()\n",
    "\n",
    "#initialize the weights for the weights mask with which Psi at reading is estimated with\n",
    "weights = gaussianWeights(nodes, READING_LOC)\n",
    "weights = weights/np.sum(weights)\n",
    "\n",
    "#initialize the space\n",
    "space = sparseAdvectionDiffSpace(nodes, IEN, boundaries, initialVelocityMatrix, 10e-5)\n",
    "space.assemble(gaussianSource)\n",
    "\n",
    "timestepsPerHour = int(3600/1)\n",
    " \n",
    "space.timestep(0.1)\n",
    "psi = space.getPsi()\n",
    "\n"
   ]
  },
  {
   "cell_type": "code",
   "execution_count": 59,
   "metadata": {},
   "outputs": [
    {
     "name": "stdout",
     "output_type": "stream",
     "text": [
      "25146.1\n"
     ]
    }
   ],
   "source": [
    "for i in range(int(timestepsPerHour/10) - 1):\n",
    "        space.timestep(10)\n",
    "if space.cur_t > 8 * 3600:\n",
    "    space.forceVector = np.zeros(space.forceVector.shape)\n",
    "df = interp.interpolate(nodes.T,[space.cur_t/3600.])[[\"horizontal_wind_speed\", \"vertical_wind_speed\"]]\n",
    "updatedVelocityMatrix = df.to_numpy()\n",
    "space.timestep(1, updatedVelocityMatrix)\n",
    "print(space.cur_t)\n",
    "psi = space.getPsi()"
   ]
  },
  {
   "cell_type": "code",
   "execution_count": 36,
   "metadata": {},
   "outputs": [
    {
     "data": {
      "text/plain": [
       "6.513916666666666"
      ]
     },
     "execution_count": 36,
     "metadata": {},
     "output_type": "execute_result"
    }
   ],
   "source": [
    "23450.1/3600"
   ]
  },
  {
   "cell_type": "code",
   "execution_count": 37,
   "metadata": {},
   "outputs": [],
   "source": [
    "weights[weights < 1e-5] = 0"
   ]
  },
  {
   "cell_type": "code",
   "execution_count": 64,
   "metadata": {},
   "outputs": [
    {
     "data": {
      "text/plain": [
       "array([1., 1., 1., 1., 1., 1., 1., 1., 1., 1., 1., 1., 1., 1., 1., 1., 1.,\n",
       "       1., 1., 1.])"
      ]
     },
     "execution_count": 64,
     "metadata": {},
     "output_type": "execute_result"
    }
   ],
   "source": [
    "np.ones((5, 20)).mean(axis = 0)"
   ]
  },
  {
   "cell_type": "code",
   "execution_count": 38,
   "metadata": {},
   "outputs": [
    {
     "data": {
      "text/plain": [
       "np.float64(142.70947085991247)"
      ]
     },
     "execution_count": 38,
     "metadata": {},
     "output_type": "execute_result"
    }
   ],
   "source": [
    "np.sum(psi)"
   ]
  },
  {
   "cell_type": "code",
   "execution_count": null,
   "metadata": {},
   "outputs": [],
   "source": []
  }
 ],
 "metadata": {
  "kernelspec": {
   "display_name": "venv",
   "language": "python",
   "name": "python3"
  },
  "language_info": {
   "codemirror_mode": {
    "name": "ipython",
    "version": 3
   },
   "file_extension": ".py",
   "mimetype": "text/x-python",
   "name": "python",
   "nbconvert_exporter": "python",
   "pygments_lexer": "ipython3",
   "version": "3.13.0"
  }
 },
 "nbformat": 4,
 "nbformat_minor": 2
}
